{
 "cells": [
  {
   "cell_type": "markdown",
   "metadata": {
    "pycharm": {
     "metadata": false,
     "name": "#%%\n"
    }
   },
   "source": [
    "# Generando nuestro Haarcascade\n",
    "\n",
    "*Demo hecha por Martín Alexis Samán Arata*\n",
    "***"
   ]
  },
  {
   "cell_type": "markdown",
   "metadata": {
    "pycharm": {
     "name": "#%% md\n"
    }
   },
   "source": [
    "## Preparando las imágenes\n",
    "---\n",
    "#### Imágenes Positivas\n",
    "*En la carpeta* ../train/positivo/rawdata/ *guardaremos las imágenes en dónde aparece el objeto que queremos entrenar.*"
   ]
  },
  {
   "cell_type": "code",
   "execution_count": 1,
   "metadata": {
    "pycharm": {}
   },
   "outputs": [],
   "source": [
    "#Importamos las librerias\n",
    "import os\n",
    "from PIL import Image"
   ]
  },
  {
   "cell_type": "code",
   "execution_count": 2,
   "metadata": {
    "pycharm": {}
   },
   "outputs": [],
   "source": [
    "directorioBase = \"../train/positivo/\"\n",
    "directorioImagenes = os.path.join(directorioBase, \"rawdata\")\n",
    "\n",
    "for root, dirs, files in os.walk(directorioImagenes):\n",
    "    for leido in files:\n",
    "        if leido.endswith(\"png\") or leido.endswith(\"jpg\") or leido.endswith(\"jpeg\"):\n",
    "            ruta = os.path.join(root, leido)\n",
    "            Image.open(ruta).save(ruta+\".bmp\")\n",
    "            print(\"Convertido: \", ruta, \" a .bmp\")\n",
    "            os.remove(ruta)"
   ]
  },
  {
   "cell_type": "markdown",
   "metadata": {
    "pycharm": {}
   },
   "source": [
    "*Después de haber convertido las imágenes al formato .bmp procederemos a seleccionar el área de la imágen en dónde aparece nuestro objeto:*\n",
    "    1. Abrir cmd en la carpeta ../train/positivo/\n",
    "    2. Digitar: `objectmarker.exe`\n",
    "    3. Presionar la tecla ENTER\n",
    "##### Lo haremos con el ratón de izquierda a derecha, para agregar lo haremos con la tecla ESPACIO, y para pasar a la siguiente con la tecla ENTER.\n",
    "\n",
    "*Al culminar el* info.txt *se nos actualizará con los ejes de cada imágen*"
   ]
  },
  {
   "cell_type": "markdown",
   "metadata": {
    "pycharm": {
     "name": "#%% md\n"
    }
   },
   "source": [
    "#### Imágenes Negativas\n",
    "*En la carpeta* ../train/negativo/ *guardaremos las imágenes en dónde no aparece el objeto que queremos entrenar.\n",
    "\n",
    "Después ejecutamos el* crearLista.bat *: esto nos pondrá los nombres de todas las imágenes .jpg en* bg.txt"
   ]
  },
  {
   "cell_type": "markdown",
   "metadata": {
    "pycharm": {}
   },
   "source": [
    "## Entrenamiento\n",
    "\n",
    "> Basado en la documentación oficial [Cascade Classifier Training](http://https://docs.opencv.org/2.4/doc/user_guide/ug_traincascade.html \"Cascade Classifier Training\")\n",
    "\n",
    "Abrimos la carpeta train\n",
    "\n",
    "\n",
    "Ejecutamos la consola allí\n",
    "\n",
    "\n",
    "Ejecutamos las siguientes instrucciones:\n",
    "\n",
    "---\n",
    "### Crear samples\n",
    "` createsamples.exe -info positivo/info.txt -vec vector/vector.vec -num 10000000 -w 50 -h 50 `\n",
    "\n",
    "Dónde:\n",
    "\n",
    "`-info rutaObtenerInformacionImagenesPositivas`\n",
    "\n",
    "`-vec rutaGuardarVector.vec`\n",
    "\n",
    "`-num numeroSolicitado`\n",
    "\n",
    "`-w ancho -h alto`\n",
    "\n",
    "---\n",
    "### Entrenar\n",
    "`haartraining.exe -data cascadas -vec vector/vector.vec -bg negativo/bg.txt -npos 64 -nneg 56 -nstages 100 -mem 1024 -mode ALL -w 50 -h 50`\n",
    "\n",
    "`rem -nonsym`\n",
    "\n",
    "Dónde:\n",
    "\n",
    "`-data carpetaGuardarCascadas` \n",
    "\n",
    "`-vec rutaObtenerVector.vec` \n",
    "\n",
    "`-bg rutaObtenerInformacionImagenesNegativas`\n",
    "\n",
    "`-npos imagenesPositivasAAnalizar -nneg imagenesNegativasAAnalizar`\n",
    "\n",
    "`-nstages numeroIteraciones -mem cantidadDeMemoriaAUtilizar -mode tipoDeClasificación`\n",
    "\n",
    "### Convertir Cascada a Haarcascade\n",
    "`haarconv.exe cascadas palomas.xml 50 50`\n",
    "\n",
    "Dónde:\n",
    "\n",
    "`cascadas` = rutaCascadas\n",
    "\n",
    "`palomas.xml` = nombreDeNuestroHaarcascade\n",
    "\n",
    "`50 50` = ancho alto\n",
    "\n",
    "> Cabe mencionar que el ancho y alto serán los mismos en las 3 fases!"
   ]
  },
  {
   "cell_type": "code",
   "execution_count": null,
   "metadata": {},
   "outputs": [],
   "source": []
  }
 ],
 "metadata": {
  "kernelspec": {
   "display_name": "Python 3",
   "language": "python",
   "name": "python3"
  },
  "language_info": {
   "codemirror_mode": {
    "name": "ipython",
    "version": 3
   },
   "file_extension": ".py",
   "mimetype": "text/x-python",
   "name": "python",
   "nbconvert_exporter": "python",
   "pygments_lexer": "ipython3",
   "version": "3.7.3"
  },
  "stem_cell": {
   "cell_type": "raw",
   "metadata": {
    "pycharm": {
     "metadata": false
    }
   },
   "source": ""
  }
 },
 "nbformat": 4,
 "nbformat_minor": 1
}
