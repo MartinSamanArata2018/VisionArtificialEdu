{
 "cells": [
  {
   "cell_type": "markdown",
   "metadata": {},
   "source": [
    "# Utilizando el Haarcascade que generamos\n",
    "\n",
    "*Demo hecha por Martín Alexis Samán Arata*"
   ]
  },
  {
   "cell_type": "code",
   "execution_count": 1,
   "metadata": {
    "pycharm": {
     "name": "#%%\n"
    }
   },
   "outputs": [],
   "source": [
    "#Importamos las librerias a utilizar\n",
    "import cv2\n",
    "import glob\n",
    "import os\n"
   ]
  },
  {
   "cell_type": "code",
   "execution_count": 2,
   "metadata": {
    "pycharm": {
     "metadata": false,
     "name": "#%%\n"
    }
   },
   "outputs": [],
   "source": [
    "#Definimos el clasificador\n",
    "haarcascade = \"../models/palomas.xml\"\n",
    "clasificador = cv2.CascadeClassifier(haarcascade)\n"
   ]
  },
  {
   "cell_type": "code",
   "execution_count": 3,
   "metadata": {},
   "outputs": [
    {
     "name": "stdout",
     "output_type": "stream",
     "text": [
      "Limpiado Exitoso\n"
     ]
    }
   ],
   "source": [
    "#Limpiamos la carpeta de salida\n",
    "for archivo in glob.glob(\"../output/*\"):\n",
    "    os.remove(archivo)\n",
    "    \n",
    "print(\"Limpiado Exitoso\")"
   ]
  },
  {
   "cell_type": "code",
   "execution_count": 4,
   "metadata": {},
   "outputs": [
    {
     "name": "stdout",
     "output_type": "stream",
     "text": [
      "Coincidencias encontradas en la imagen:  ../input\\paloma1.jpg :  3\n",
      "Coincidencias encontradas en la imagen:  ../input\\paloma2.jpg :  2\n",
      "Coincidencias encontradas en la imagen:  ../input\\paloma3.jpg :  1\n",
      "Coincidencias encontradas en la imagen:  ../input\\paloma4.jpg :  5\n",
      "Total Entrada: 4\n",
      "Total Salida : 4\n"
     ]
    }
   ],
   "source": [
    "i = 1\n",
    "\n",
    "#Leemos imagenes contenidas en la carpeta de entrada con la extension jpg\n",
    "for imagenLeida in glob.glob(\"../input/*.jpg\"):\n",
    "    \n",
    "    #Guardamos la imagen en una variable\n",
    "    imagen = cv2.imread(imagenLeida)\n",
    "    \n",
    "    #Guardamos los conjuntos de ejes de las coincidencias encontradas en la imagen\n",
    "    detectado = clasificador.detectMultiScale(\n",
    "        imagen,\n",
    "        scaleFactor = 3.5,\n",
    "        minNeighbors = 60,\n",
    "        minSize = (90, 90)\n",
    "    )\n",
    "    \n",
    "    print(\"Coincidencias encontradas en la imagen: \", imagenLeida, \": \",len(detectado))\n",
    "    \n",
    "    #Iteramos en los conjuntos de los ejes que coinciden\n",
    "    for (x, y, w, h) in detectado:        \n",
    "        #Obtenemos los ejes y lo dibujamos en la imagen\n",
    "        cv2.rectangle(imagen, (x, y), (x + w, y + h), (500, 600, 10), 3)\n",
    "    \n",
    "    #Guardamos la imagen en la carpeta de salida\n",
    "    cv2.imwrite('../output/' + str(i) + '.jpg', imagen)\n",
    "    i+=1\n",
    "    \n",
    "#Limpiamos memoria\n",
    "del imagen, detectado, i, haarcascade, clasificador\n",
    "\n",
    "#Imprimimos la cantidas de imagenes que entraron y las que salieron\n",
    "print('Total Entrada:', len(glob.glob(\"../input/*.jpg\")))\n",
    "print('Total Salida :', len(glob.glob(\"../output/*.jpg\")))\n"
   ]
  },
  {
   "cell_type": "code",
   "execution_count": 5,
   "metadata": {},
   "outputs": [],
   "source": [
    "#Mostramos los resultados\n",
    "\n",
    "for imagenLeida in glob.glob(\"../output/*.jpg\"):\n",
    "    imagenSalida = cv2.imread(imagenLeida)\n",
    "    cv2.imshow('Resultados:', cv2.resize(imagenSalida,None,fx=0.5,fy=0.5))\n",
    "    cv2.waitKey(0)\n",
    "cv2.destroyAllWindows()\n",
    "\n",
    "#Limpiamos memoria\n",
    "del imagenSalida"
   ]
  },
  {
   "cell_type": "code",
   "execution_count": null,
   "metadata": {},
   "outputs": [],
   "source": []
  }
 ],
 "metadata": {
  "kernelspec": {
   "display_name": "Python 3",
   "language": "python",
   "name": "python3"
  },
  "language_info": {
   "codemirror_mode": {
    "name": "ipython",
    "version": 3
   },
   "file_extension": ".py",
   "mimetype": "text/x-python",
   "name": "python",
   "nbconvert_exporter": "python",
   "pygments_lexer": "ipython3",
   "version": "3.7.3"
  },
  "stem_cell": {
   "cell_type": "raw",
   "metadata": {
    "pycharm": {
     "metadata": false
    }
   },
   "source": ""
  }
 },
 "nbformat": 4,
 "nbformat_minor": 1
}
